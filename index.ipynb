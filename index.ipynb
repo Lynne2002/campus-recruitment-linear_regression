{
 "cells": [
  {
   "cell_type": "code",
   "execution_count": 1,
   "id": "bccec024",
   "metadata": {
    "_cell_guid": "b1076dfc-b9ad-4769-8c92-a6c4dae69d19",
    "_uuid": "8f2839f25d086af736a60e9eeb907d3b93b6e0e5",
    "execution": {
     "iopub.execute_input": "2023-02-22T13:23:27.357828Z",
     "iopub.status.busy": "2023-02-22T13:23:27.357145Z",
     "iopub.status.idle": "2023-02-22T13:23:27.378960Z",
     "shell.execute_reply": "2023-02-22T13:23:27.377633Z"
    },
    "papermill": {
     "duration": 0.03597,
     "end_time": "2023-02-22T13:23:27.381849",
     "exception": false,
     "start_time": "2023-02-22T13:23:27.345879",
     "status": "completed"
    },
    "tags": []
   },
   "outputs": [
    {
     "name": "stdout",
     "output_type": "stream",
     "text": [
      "/kaggle/input/factors-affecting-campus-placement/Placement_Data_Full_Class.csv\n"
     ]
    }
   ],
   "source": [
    "# This Python 3 environment comes with many helpful analytics libraries installed\n",
    "# It is defined by the kaggle/python Docker image: https://github.com/kaggle/docker-python\n",
    "# For example, here's several helpful packages to load\n",
    "\n",
    "import numpy as np # linear algebra\n",
    "import pandas as pd # data processing, CSV file I/O (e.g. pd.read_csv)\n",
    "\n",
    "# Input data files are available in the read-only \"../input/\" directory\n",
    "# For example, running this (by clicking run or pressing Shift+Enter) will list all files under the input directory\n",
    "\n",
    "import os\n",
    "for dirname, _, filenames in os.walk('/kaggle/input'):\n",
    "    for filename in filenames:\n",
    "        print(os.path.join(dirname, filename))\n",
    "\n",
    "# You can write up to 20GB to the current directory (/kaggle/working/) that gets preserved as output when you create a version using \"Save & Run All\" \n",
    "# You can also write temporary files to /kaggle/temp/, but they won't be saved outside of the current session"
   ]
  },
  {
   "cell_type": "markdown",
   "id": "15ca6e2f",
   "metadata": {
    "papermill": {
     "duration": 0.004801,
     "end_time": "2023-02-22T13:23:27.392161",
     "exception": false,
     "start_time": "2023-02-22T13:23:27.387360",
     "status": "completed"
    },
    "tags": []
   },
   "source": [
    "# Points to take into consideration\n",
    "## Questions:\n",
    "- Which factor influenced a candidate in getting placed?\n",
    "- Does percentage matters for one to get placed?\n",
    "- Which degree specialization is much demanded by corporate?\n",
    "- Play with the data conducting all statistical tests.\n",
    "\n",
    "## Regression tasks:\n",
    "- Develop a simple linear regression model by estimating the model parameters.\n",
    "- Show the regression plot\n",
    "- Comment on the R-squared value of the model\n",
    "- Test for significance of the regression co-efficient based on the summary"
   ]
  },
  {
   "cell_type": "markdown",
   "id": "0db96be4",
   "metadata": {
    "papermill": {
     "duration": 0.004871,
     "end_time": "2023-02-22T13:23:27.402394",
     "exception": false,
     "start_time": "2023-02-22T13:23:27.397523",
     "status": "completed"
    },
    "tags": []
   },
   "source": [
    "## Imports"
   ]
  },
  {
   "cell_type": "code",
   "execution_count": 2,
   "id": "5e34e1db",
   "metadata": {
    "execution": {
     "iopub.execute_input": "2023-02-22T13:23:27.414324Z",
     "iopub.status.busy": "2023-02-22T13:23:27.413847Z",
     "iopub.status.idle": "2023-02-22T13:23:28.565962Z",
     "shell.execute_reply": "2023-02-22T13:23:28.564778Z"
    },
    "papermill": {
     "duration": 1.161337,
     "end_time": "2023-02-22T13:23:28.568804",
     "exception": false,
     "start_time": "2023-02-22T13:23:27.407467",
     "status": "completed"
    },
    "tags": []
   },
   "outputs": [],
   "source": [
    "import numpy as np\n",
    "import pandas as pd\n",
    "import matplotlib.pyplot as py\n",
    "import seaborn as sns\n",
    "import math\n",
    "import sklearn.model_selection as model_selection\n",
    "import sklearn.preprocessing as preprocessing\n",
    "\n",
    "from sklearn.linear_model import LinearRegression\n",
    "from sklearn.metrics import mean_squared_error\n",
    "from sklearn.metrics import r2_score\n",
    "\n"
   ]
  },
  {
   "cell_type": "markdown",
   "id": "b092c487",
   "metadata": {
    "papermill": {
     "duration": 0.004739,
     "end_time": "2023-02-22T13:23:28.580035",
     "exception": false,
     "start_time": "2023-02-22T13:23:28.575296",
     "status": "completed"
    },
    "tags": []
   },
   "source": [
    "## 1. Importing the data"
   ]
  },
  {
   "cell_type": "code",
   "execution_count": 3,
   "id": "c68a269f",
   "metadata": {
    "execution": {
     "iopub.execute_input": "2023-02-22T13:23:28.592336Z",
     "iopub.status.busy": "2023-02-22T13:23:28.591838Z",
     "iopub.status.idle": "2023-02-22T13:23:28.642180Z",
     "shell.execute_reply": "2023-02-22T13:23:28.640994Z"
    },
    "papermill": {
     "duration": 0.060525,
     "end_time": "2023-02-22T13:23:28.645582",
     "exception": false,
     "start_time": "2023-02-22T13:23:28.585057",
     "status": "completed"
    },
    "tags": []
   },
   "outputs": [
    {
     "data": {
      "text/html": [
       "<div>\n",
       "<style scoped>\n",
       "    .dataframe tbody tr th:only-of-type {\n",
       "        vertical-align: middle;\n",
       "    }\n",
       "\n",
       "    .dataframe tbody tr th {\n",
       "        vertical-align: top;\n",
       "    }\n",
       "\n",
       "    .dataframe thead th {\n",
       "        text-align: right;\n",
       "    }\n",
       "</style>\n",
       "<table border=\"1\" class=\"dataframe\">\n",
       "  <thead>\n",
       "    <tr style=\"text-align: right;\">\n",
       "      <th></th>\n",
       "      <th>sl_no</th>\n",
       "      <th>gender</th>\n",
       "      <th>ssc_p</th>\n",
       "      <th>ssc_b</th>\n",
       "      <th>hsc_p</th>\n",
       "      <th>hsc_b</th>\n",
       "      <th>hsc_s</th>\n",
       "      <th>degree_p</th>\n",
       "      <th>degree_t</th>\n",
       "      <th>workex</th>\n",
       "      <th>etest_p</th>\n",
       "      <th>specialisation</th>\n",
       "      <th>mba_p</th>\n",
       "      <th>status</th>\n",
       "      <th>salary</th>\n",
       "    </tr>\n",
       "  </thead>\n",
       "  <tbody>\n",
       "    <tr>\n",
       "      <th>0</th>\n",
       "      <td>1</td>\n",
       "      <td>M</td>\n",
       "      <td>67.00</td>\n",
       "      <td>Others</td>\n",
       "      <td>91.00</td>\n",
       "      <td>Others</td>\n",
       "      <td>Commerce</td>\n",
       "      <td>58.00</td>\n",
       "      <td>Sci&amp;Tech</td>\n",
       "      <td>No</td>\n",
       "      <td>55.00</td>\n",
       "      <td>Mkt&amp;HR</td>\n",
       "      <td>58.80</td>\n",
       "      <td>Placed</td>\n",
       "      <td>270000.0</td>\n",
       "    </tr>\n",
       "    <tr>\n",
       "      <th>1</th>\n",
       "      <td>2</td>\n",
       "      <td>M</td>\n",
       "      <td>79.33</td>\n",
       "      <td>Central</td>\n",
       "      <td>78.33</td>\n",
       "      <td>Others</td>\n",
       "      <td>Science</td>\n",
       "      <td>77.48</td>\n",
       "      <td>Sci&amp;Tech</td>\n",
       "      <td>Yes</td>\n",
       "      <td>86.50</td>\n",
       "      <td>Mkt&amp;Fin</td>\n",
       "      <td>66.28</td>\n",
       "      <td>Placed</td>\n",
       "      <td>200000.0</td>\n",
       "    </tr>\n",
       "    <tr>\n",
       "      <th>2</th>\n",
       "      <td>3</td>\n",
       "      <td>M</td>\n",
       "      <td>65.00</td>\n",
       "      <td>Central</td>\n",
       "      <td>68.00</td>\n",
       "      <td>Central</td>\n",
       "      <td>Arts</td>\n",
       "      <td>64.00</td>\n",
       "      <td>Comm&amp;Mgmt</td>\n",
       "      <td>No</td>\n",
       "      <td>75.00</td>\n",
       "      <td>Mkt&amp;Fin</td>\n",
       "      <td>57.80</td>\n",
       "      <td>Placed</td>\n",
       "      <td>250000.0</td>\n",
       "    </tr>\n",
       "    <tr>\n",
       "      <th>3</th>\n",
       "      <td>4</td>\n",
       "      <td>M</td>\n",
       "      <td>56.00</td>\n",
       "      <td>Central</td>\n",
       "      <td>52.00</td>\n",
       "      <td>Central</td>\n",
       "      <td>Science</td>\n",
       "      <td>52.00</td>\n",
       "      <td>Sci&amp;Tech</td>\n",
       "      <td>No</td>\n",
       "      <td>66.00</td>\n",
       "      <td>Mkt&amp;HR</td>\n",
       "      <td>59.43</td>\n",
       "      <td>Not Placed</td>\n",
       "      <td>NaN</td>\n",
       "    </tr>\n",
       "    <tr>\n",
       "      <th>4</th>\n",
       "      <td>5</td>\n",
       "      <td>M</td>\n",
       "      <td>85.80</td>\n",
       "      <td>Central</td>\n",
       "      <td>73.60</td>\n",
       "      <td>Central</td>\n",
       "      <td>Commerce</td>\n",
       "      <td>73.30</td>\n",
       "      <td>Comm&amp;Mgmt</td>\n",
       "      <td>No</td>\n",
       "      <td>96.80</td>\n",
       "      <td>Mkt&amp;Fin</td>\n",
       "      <td>55.50</td>\n",
       "      <td>Placed</td>\n",
       "      <td>425000.0</td>\n",
       "    </tr>\n",
       "    <tr>\n",
       "      <th>5</th>\n",
       "      <td>6</td>\n",
       "      <td>M</td>\n",
       "      <td>55.00</td>\n",
       "      <td>Others</td>\n",
       "      <td>49.80</td>\n",
       "      <td>Others</td>\n",
       "      <td>Science</td>\n",
       "      <td>67.25</td>\n",
       "      <td>Sci&amp;Tech</td>\n",
       "      <td>Yes</td>\n",
       "      <td>55.00</td>\n",
       "      <td>Mkt&amp;Fin</td>\n",
       "      <td>51.58</td>\n",
       "      <td>Not Placed</td>\n",
       "      <td>NaN</td>\n",
       "    </tr>\n",
       "    <tr>\n",
       "      <th>6</th>\n",
       "      <td>7</td>\n",
       "      <td>F</td>\n",
       "      <td>46.00</td>\n",
       "      <td>Others</td>\n",
       "      <td>49.20</td>\n",
       "      <td>Others</td>\n",
       "      <td>Commerce</td>\n",
       "      <td>79.00</td>\n",
       "      <td>Comm&amp;Mgmt</td>\n",
       "      <td>No</td>\n",
       "      <td>74.28</td>\n",
       "      <td>Mkt&amp;Fin</td>\n",
       "      <td>53.29</td>\n",
       "      <td>Not Placed</td>\n",
       "      <td>NaN</td>\n",
       "    </tr>\n",
       "    <tr>\n",
       "      <th>7</th>\n",
       "      <td>8</td>\n",
       "      <td>M</td>\n",
       "      <td>82.00</td>\n",
       "      <td>Central</td>\n",
       "      <td>64.00</td>\n",
       "      <td>Central</td>\n",
       "      <td>Science</td>\n",
       "      <td>66.00</td>\n",
       "      <td>Sci&amp;Tech</td>\n",
       "      <td>Yes</td>\n",
       "      <td>67.00</td>\n",
       "      <td>Mkt&amp;Fin</td>\n",
       "      <td>62.14</td>\n",
       "      <td>Placed</td>\n",
       "      <td>252000.0</td>\n",
       "    </tr>\n",
       "    <tr>\n",
       "      <th>8</th>\n",
       "      <td>9</td>\n",
       "      <td>M</td>\n",
       "      <td>73.00</td>\n",
       "      <td>Central</td>\n",
       "      <td>79.00</td>\n",
       "      <td>Central</td>\n",
       "      <td>Commerce</td>\n",
       "      <td>72.00</td>\n",
       "      <td>Comm&amp;Mgmt</td>\n",
       "      <td>No</td>\n",
       "      <td>91.34</td>\n",
       "      <td>Mkt&amp;Fin</td>\n",
       "      <td>61.29</td>\n",
       "      <td>Placed</td>\n",
       "      <td>231000.0</td>\n",
       "    </tr>\n",
       "    <tr>\n",
       "      <th>9</th>\n",
       "      <td>10</td>\n",
       "      <td>M</td>\n",
       "      <td>58.00</td>\n",
       "      <td>Central</td>\n",
       "      <td>70.00</td>\n",
       "      <td>Central</td>\n",
       "      <td>Commerce</td>\n",
       "      <td>61.00</td>\n",
       "      <td>Comm&amp;Mgmt</td>\n",
       "      <td>No</td>\n",
       "      <td>54.00</td>\n",
       "      <td>Mkt&amp;Fin</td>\n",
       "      <td>52.21</td>\n",
       "      <td>Not Placed</td>\n",
       "      <td>NaN</td>\n",
       "    </tr>\n",
       "    <tr>\n",
       "      <th>10</th>\n",
       "      <td>11</td>\n",
       "      <td>M</td>\n",
       "      <td>58.00</td>\n",
       "      <td>Central</td>\n",
       "      <td>61.00</td>\n",
       "      <td>Central</td>\n",
       "      <td>Commerce</td>\n",
       "      <td>60.00</td>\n",
       "      <td>Comm&amp;Mgmt</td>\n",
       "      <td>Yes</td>\n",
       "      <td>62.00</td>\n",
       "      <td>Mkt&amp;HR</td>\n",
       "      <td>60.85</td>\n",
       "      <td>Placed</td>\n",
       "      <td>260000.0</td>\n",
       "    </tr>\n",
       "    <tr>\n",
       "      <th>11</th>\n",
       "      <td>12</td>\n",
       "      <td>M</td>\n",
       "      <td>69.60</td>\n",
       "      <td>Central</td>\n",
       "      <td>68.40</td>\n",
       "      <td>Central</td>\n",
       "      <td>Commerce</td>\n",
       "      <td>78.30</td>\n",
       "      <td>Comm&amp;Mgmt</td>\n",
       "      <td>Yes</td>\n",
       "      <td>60.00</td>\n",
       "      <td>Mkt&amp;Fin</td>\n",
       "      <td>63.70</td>\n",
       "      <td>Placed</td>\n",
       "      <td>250000.0</td>\n",
       "    </tr>\n",
       "    <tr>\n",
       "      <th>12</th>\n",
       "      <td>13</td>\n",
       "      <td>F</td>\n",
       "      <td>47.00</td>\n",
       "      <td>Central</td>\n",
       "      <td>55.00</td>\n",
       "      <td>Others</td>\n",
       "      <td>Science</td>\n",
       "      <td>65.00</td>\n",
       "      <td>Comm&amp;Mgmt</td>\n",
       "      <td>No</td>\n",
       "      <td>62.00</td>\n",
       "      <td>Mkt&amp;HR</td>\n",
       "      <td>65.04</td>\n",
       "      <td>Not Placed</td>\n",
       "      <td>NaN</td>\n",
       "    </tr>\n",
       "    <tr>\n",
       "      <th>13</th>\n",
       "      <td>14</td>\n",
       "      <td>F</td>\n",
       "      <td>77.00</td>\n",
       "      <td>Central</td>\n",
       "      <td>87.00</td>\n",
       "      <td>Central</td>\n",
       "      <td>Commerce</td>\n",
       "      <td>59.00</td>\n",
       "      <td>Comm&amp;Mgmt</td>\n",
       "      <td>No</td>\n",
       "      <td>68.00</td>\n",
       "      <td>Mkt&amp;Fin</td>\n",
       "      <td>68.63</td>\n",
       "      <td>Placed</td>\n",
       "      <td>218000.0</td>\n",
       "    </tr>\n",
       "    <tr>\n",
       "      <th>14</th>\n",
       "      <td>15</td>\n",
       "      <td>M</td>\n",
       "      <td>62.00</td>\n",
       "      <td>Central</td>\n",
       "      <td>47.00</td>\n",
       "      <td>Central</td>\n",
       "      <td>Commerce</td>\n",
       "      <td>50.00</td>\n",
       "      <td>Comm&amp;Mgmt</td>\n",
       "      <td>No</td>\n",
       "      <td>76.00</td>\n",
       "      <td>Mkt&amp;HR</td>\n",
       "      <td>54.96</td>\n",
       "      <td>Not Placed</td>\n",
       "      <td>NaN</td>\n",
       "    </tr>\n",
       "    <tr>\n",
       "      <th>15</th>\n",
       "      <td>16</td>\n",
       "      <td>F</td>\n",
       "      <td>65.00</td>\n",
       "      <td>Central</td>\n",
       "      <td>75.00</td>\n",
       "      <td>Central</td>\n",
       "      <td>Commerce</td>\n",
       "      <td>69.00</td>\n",
       "      <td>Comm&amp;Mgmt</td>\n",
       "      <td>Yes</td>\n",
       "      <td>72.00</td>\n",
       "      <td>Mkt&amp;Fin</td>\n",
       "      <td>64.66</td>\n",
       "      <td>Placed</td>\n",
       "      <td>200000.0</td>\n",
       "    </tr>\n",
       "    <tr>\n",
       "      <th>16</th>\n",
       "      <td>17</td>\n",
       "      <td>M</td>\n",
       "      <td>63.00</td>\n",
       "      <td>Central</td>\n",
       "      <td>66.20</td>\n",
       "      <td>Central</td>\n",
       "      <td>Commerce</td>\n",
       "      <td>65.60</td>\n",
       "      <td>Comm&amp;Mgmt</td>\n",
       "      <td>Yes</td>\n",
       "      <td>60.00</td>\n",
       "      <td>Mkt&amp;Fin</td>\n",
       "      <td>62.54</td>\n",
       "      <td>Placed</td>\n",
       "      <td>300000.0</td>\n",
       "    </tr>\n",
       "    <tr>\n",
       "      <th>17</th>\n",
       "      <td>18</td>\n",
       "      <td>F</td>\n",
       "      <td>55.00</td>\n",
       "      <td>Central</td>\n",
       "      <td>67.00</td>\n",
       "      <td>Central</td>\n",
       "      <td>Commerce</td>\n",
       "      <td>64.00</td>\n",
       "      <td>Comm&amp;Mgmt</td>\n",
       "      <td>No</td>\n",
       "      <td>60.00</td>\n",
       "      <td>Mkt&amp;Fin</td>\n",
       "      <td>67.28</td>\n",
       "      <td>Not Placed</td>\n",
       "      <td>NaN</td>\n",
       "    </tr>\n",
       "    <tr>\n",
       "      <th>18</th>\n",
       "      <td>19</td>\n",
       "      <td>F</td>\n",
       "      <td>63.00</td>\n",
       "      <td>Central</td>\n",
       "      <td>66.00</td>\n",
       "      <td>Central</td>\n",
       "      <td>Commerce</td>\n",
       "      <td>64.00</td>\n",
       "      <td>Comm&amp;Mgmt</td>\n",
       "      <td>No</td>\n",
       "      <td>68.00</td>\n",
       "      <td>Mkt&amp;HR</td>\n",
       "      <td>64.08</td>\n",
       "      <td>Not Placed</td>\n",
       "      <td>NaN</td>\n",
       "    </tr>\n",
       "    <tr>\n",
       "      <th>19</th>\n",
       "      <td>20</td>\n",
       "      <td>M</td>\n",
       "      <td>60.00</td>\n",
       "      <td>Others</td>\n",
       "      <td>67.00</td>\n",
       "      <td>Others</td>\n",
       "      <td>Arts</td>\n",
       "      <td>70.00</td>\n",
       "      <td>Comm&amp;Mgmt</td>\n",
       "      <td>Yes</td>\n",
       "      <td>50.48</td>\n",
       "      <td>Mkt&amp;Fin</td>\n",
       "      <td>77.89</td>\n",
       "      <td>Placed</td>\n",
       "      <td>236000.0</td>\n",
       "    </tr>\n",
       "  </tbody>\n",
       "</table>\n",
       "</div>"
      ],
      "text/plain": [
       "    sl_no gender  ssc_p    ssc_b  hsc_p    hsc_b     hsc_s  degree_p  \\\n",
       "0       1      M  67.00   Others  91.00   Others  Commerce     58.00   \n",
       "1       2      M  79.33  Central  78.33   Others   Science     77.48   \n",
       "2       3      M  65.00  Central  68.00  Central      Arts     64.00   \n",
       "3       4      M  56.00  Central  52.00  Central   Science     52.00   \n",
       "4       5      M  85.80  Central  73.60  Central  Commerce     73.30   \n",
       "5       6      M  55.00   Others  49.80   Others   Science     67.25   \n",
       "6       7      F  46.00   Others  49.20   Others  Commerce     79.00   \n",
       "7       8      M  82.00  Central  64.00  Central   Science     66.00   \n",
       "8       9      M  73.00  Central  79.00  Central  Commerce     72.00   \n",
       "9      10      M  58.00  Central  70.00  Central  Commerce     61.00   \n",
       "10     11      M  58.00  Central  61.00  Central  Commerce     60.00   \n",
       "11     12      M  69.60  Central  68.40  Central  Commerce     78.30   \n",
       "12     13      F  47.00  Central  55.00   Others   Science     65.00   \n",
       "13     14      F  77.00  Central  87.00  Central  Commerce     59.00   \n",
       "14     15      M  62.00  Central  47.00  Central  Commerce     50.00   \n",
       "15     16      F  65.00  Central  75.00  Central  Commerce     69.00   \n",
       "16     17      M  63.00  Central  66.20  Central  Commerce     65.60   \n",
       "17     18      F  55.00  Central  67.00  Central  Commerce     64.00   \n",
       "18     19      F  63.00  Central  66.00  Central  Commerce     64.00   \n",
       "19     20      M  60.00   Others  67.00   Others      Arts     70.00   \n",
       "\n",
       "     degree_t workex  etest_p specialisation  mba_p      status    salary  \n",
       "0    Sci&Tech     No    55.00         Mkt&HR  58.80      Placed  270000.0  \n",
       "1    Sci&Tech    Yes    86.50        Mkt&Fin  66.28      Placed  200000.0  \n",
       "2   Comm&Mgmt     No    75.00        Mkt&Fin  57.80      Placed  250000.0  \n",
       "3    Sci&Tech     No    66.00         Mkt&HR  59.43  Not Placed       NaN  \n",
       "4   Comm&Mgmt     No    96.80        Mkt&Fin  55.50      Placed  425000.0  \n",
       "5    Sci&Tech    Yes    55.00        Mkt&Fin  51.58  Not Placed       NaN  \n",
       "6   Comm&Mgmt     No    74.28        Mkt&Fin  53.29  Not Placed       NaN  \n",
       "7    Sci&Tech    Yes    67.00        Mkt&Fin  62.14      Placed  252000.0  \n",
       "8   Comm&Mgmt     No    91.34        Mkt&Fin  61.29      Placed  231000.0  \n",
       "9   Comm&Mgmt     No    54.00        Mkt&Fin  52.21  Not Placed       NaN  \n",
       "10  Comm&Mgmt    Yes    62.00         Mkt&HR  60.85      Placed  260000.0  \n",
       "11  Comm&Mgmt    Yes    60.00        Mkt&Fin  63.70      Placed  250000.0  \n",
       "12  Comm&Mgmt     No    62.00         Mkt&HR  65.04  Not Placed       NaN  \n",
       "13  Comm&Mgmt     No    68.00        Mkt&Fin  68.63      Placed  218000.0  \n",
       "14  Comm&Mgmt     No    76.00         Mkt&HR  54.96  Not Placed       NaN  \n",
       "15  Comm&Mgmt    Yes    72.00        Mkt&Fin  64.66      Placed  200000.0  \n",
       "16  Comm&Mgmt    Yes    60.00        Mkt&Fin  62.54      Placed  300000.0  \n",
       "17  Comm&Mgmt     No    60.00        Mkt&Fin  67.28  Not Placed       NaN  \n",
       "18  Comm&Mgmt     No    68.00         Mkt&HR  64.08  Not Placed       NaN  \n",
       "19  Comm&Mgmt    Yes    50.48        Mkt&Fin  77.89      Placed  236000.0  "
      ]
     },
     "execution_count": 3,
     "metadata": {},
     "output_type": "execute_result"
    }
   ],
   "source": [
    "data_df = pd.read_csv(r'/kaggle/input/factors-affecting-campus-placement/Placement_Data_Full_Class.csv')\n",
    "data_df.head(20)"
   ]
  },
  {
   "cell_type": "code",
   "execution_count": 4,
   "id": "9bb1d3f4",
   "metadata": {
    "execution": {
     "iopub.execute_input": "2023-02-22T13:23:28.658835Z",
     "iopub.status.busy": "2023-02-22T13:23:28.658439Z",
     "iopub.status.idle": "2023-02-22T13:23:28.664241Z",
     "shell.execute_reply": "2023-02-22T13:23:28.663124Z"
    },
    "papermill": {
     "duration": 0.01564,
     "end_time": "2023-02-22T13:23:28.666962",
     "exception": false,
     "start_time": "2023-02-22T13:23:28.651322",
     "status": "completed"
    },
    "tags": []
   },
   "outputs": [
    {
     "name": "stdout",
     "output_type": "stream",
     "text": [
      "Shape: (215, 15)\n"
     ]
    }
   ],
   "source": [
    "print(f'Shape:',data_df.shape)"
   ]
  },
  {
   "cell_type": "markdown",
   "id": "e342c8e3",
   "metadata": {
    "papermill": {
     "duration": 0.005315,
     "end_time": "2023-02-22T13:23:28.677944",
     "exception": false,
     "start_time": "2023-02-22T13:23:28.672629",
     "status": "completed"
    },
    "tags": []
   },
   "source": [
    "215 rows and 15 columns"
   ]
  },
  {
   "cell_type": "code",
   "execution_count": 5,
   "id": "a96d10c6",
   "metadata": {
    "execution": {
     "iopub.execute_input": "2023-02-22T13:23:28.691217Z",
     "iopub.status.busy": "2023-02-22T13:23:28.690464Z",
     "iopub.status.idle": "2023-02-22T13:23:28.716314Z",
     "shell.execute_reply": "2023-02-22T13:23:28.714775Z"
    },
    "papermill": {
     "duration": 0.035039,
     "end_time": "2023-02-22T13:23:28.718687",
     "exception": false,
     "start_time": "2023-02-22T13:23:28.683648",
     "status": "completed"
    },
    "tags": []
   },
   "outputs": [
    {
     "name": "stdout",
     "output_type": "stream",
     "text": [
      "<class 'pandas.core.frame.DataFrame'>\n",
      "RangeIndex: 215 entries, 0 to 214\n",
      "Data columns (total 15 columns):\n",
      " #   Column          Non-Null Count  Dtype  \n",
      "---  ------          --------------  -----  \n",
      " 0   sl_no           215 non-null    int64  \n",
      " 1   gender          215 non-null    object \n",
      " 2   ssc_p           215 non-null    float64\n",
      " 3   ssc_b           215 non-null    object \n",
      " 4   hsc_p           215 non-null    float64\n",
      " 5   hsc_b           215 non-null    object \n",
      " 6   hsc_s           215 non-null    object \n",
      " 7   degree_p        215 non-null    float64\n",
      " 8   degree_t        215 non-null    object \n",
      " 9   workex          215 non-null    object \n",
      " 10  etest_p         215 non-null    float64\n",
      " 11  specialisation  215 non-null    object \n",
      " 12  mba_p           215 non-null    float64\n",
      " 13  status          215 non-null    object \n",
      " 14  salary          148 non-null    float64\n",
      "dtypes: float64(6), int64(1), object(8)\n",
      "memory usage: 25.3+ KB\n"
     ]
    }
   ],
   "source": [
    "# General overview of the dataset\n",
    "data_df.info()"
   ]
  },
  {
   "cell_type": "markdown",
   "id": "17e48cbe",
   "metadata": {
    "papermill": {
     "duration": 0.005462,
     "end_time": "2023-02-22T13:23:28.730305",
     "exception": false,
     "start_time": "2023-02-22T13:23:28.724843",
     "status": "completed"
    },
    "tags": []
   },
   "source": [
    "We have 148 non-null columns for salary, so there are some missing values"
   ]
  },
  {
   "cell_type": "markdown",
   "id": "88a308a5",
   "metadata": {
    "papermill": {
     "duration": 0.005375,
     "end_time": "2023-02-22T13:23:28.742059",
     "exception": false,
     "start_time": "2023-02-22T13:23:28.736684",
     "status": "completed"
    },
    "tags": []
   },
   "source": [
    "**To get the exact number of missing values from the dataset:**"
   ]
  },
  {
   "cell_type": "code",
   "execution_count": 6,
   "id": "98b7b659",
   "metadata": {
    "execution": {
     "iopub.execute_input": "2023-02-22T13:23:28.755041Z",
     "iopub.status.busy": "2023-02-22T13:23:28.754629Z",
     "iopub.status.idle": "2023-02-22T13:23:28.765352Z",
     "shell.execute_reply": "2023-02-22T13:23:28.763802Z"
    },
    "papermill": {
     "duration": 0.019983,
     "end_time": "2023-02-22T13:23:28.767683",
     "exception": false,
     "start_time": "2023-02-22T13:23:28.747700",
     "status": "completed"
    },
    "tags": []
   },
   "outputs": [
    {
     "data": {
      "text/plain": [
       "sl_no              0\n",
       "gender             0\n",
       "ssc_p              0\n",
       "ssc_b              0\n",
       "hsc_p              0\n",
       "hsc_b              0\n",
       "hsc_s              0\n",
       "degree_p           0\n",
       "degree_t           0\n",
       "workex             0\n",
       "etest_p            0\n",
       "specialisation     0\n",
       "mba_p              0\n",
       "status             0\n",
       "salary            67\n",
       "dtype: int64"
      ]
     },
     "execution_count": 6,
     "metadata": {},
     "output_type": "execute_result"
    }
   ],
   "source": [
    "data_df.isnull().sum()"
   ]
  },
  {
   "cell_type": "markdown",
   "id": "dbe9866e",
   "metadata": {
    "papermill": {
     "duration": 0.005664,
     "end_time": "2023-02-22T13:23:28.779289",
     "exception": false,
     "start_time": "2023-02-22T13:23:28.773625",
     "status": "completed"
    },
    "tags": []
   },
   "source": [
    "So we have 67 null values from the salary column"
   ]
  },
  {
   "cell_type": "markdown",
   "id": "77e3b06b",
   "metadata": {
    "papermill": {
     "duration": 0.005857,
     "end_time": "2023-02-22T13:23:28.791130",
     "exception": false,
     "start_time": "2023-02-22T13:23:28.785273",
     "status": "completed"
    },
    "tags": []
   },
   "source": [
    "Whenever the status is **Not Placed**, we have a null salary value."
   ]
  },
  {
   "cell_type": "code",
   "execution_count": 7,
   "id": "c419c83b",
   "metadata": {
    "execution": {
     "iopub.execute_input": "2023-02-22T13:23:28.805402Z",
     "iopub.status.busy": "2023-02-22T13:23:28.804984Z",
     "iopub.status.idle": "2023-02-22T13:23:28.813066Z",
     "shell.execute_reply": "2023-02-22T13:23:28.812135Z"
    },
    "papermill": {
     "duration": 0.018172,
     "end_time": "2023-02-22T13:23:28.815344",
     "exception": false,
     "start_time": "2023-02-22T13:23:28.797172",
     "status": "completed"
    },
    "tags": []
   },
   "outputs": [
    {
     "data": {
      "text/plain": [
       "Placed        148\n",
       "Not Placed     67\n",
       "Name: status, dtype: int64"
      ]
     },
     "execution_count": 7,
     "metadata": {},
     "output_type": "execute_result"
    }
   ],
   "source": [
    "data_df['status'].value_counts()"
   ]
  },
  {
   "cell_type": "markdown",
   "id": "0b6d9908",
   "metadata": {
    "papermill": {
     "duration": 0.005678,
     "end_time": "2023-02-22T13:23:28.827161",
     "exception": false,
     "start_time": "2023-02-22T13:23:28.821483",
     "status": "completed"
    },
    "tags": []
   },
   "source": [
    "Okay, so do all the values with the status **Not Placed** have the value of **NaN** as salary?"
   ]
  },
  {
   "cell_type": "code",
   "execution_count": 8,
   "id": "abe65ff4",
   "metadata": {
    "execution": {
     "iopub.execute_input": "2023-02-22T13:23:28.841026Z",
     "iopub.status.busy": "2023-02-22T13:23:28.840590Z",
     "iopub.status.idle": "2023-02-22T13:23:28.850214Z",
     "shell.execute_reply": "2023-02-22T13:23:28.848892Z"
    },
    "papermill": {
     "duration": 0.020054,
     "end_time": "2023-02-22T13:23:28.853229",
     "exception": false,
     "start_time": "2023-02-22T13:23:28.833175",
     "status": "completed"
    },
    "tags": []
   },
   "outputs": [
    {
     "name": "stdout",
     "output_type": "stream",
     "text": [
      "shape of the status frame:  (67, 15)\n",
      "Number of rows as status **Not Placed**:  67\n",
      "Number of rows with salary as zero:  67\n"
     ]
    }
   ],
   "source": [
    "status_df = data_df[data_df['status']=='Not Placed']\n",
    "status_df\n",
    "\n",
    "print('shape of the status frame: ', status_df.shape)\n",
    "print('Number of rows as status **Not Placed**: ',status_df['status'].count() )\n",
    "print('Number of rows with salary as zero: ', status_df['salary'].isnull().count())"
   ]
  },
  {
   "cell_type": "code",
   "execution_count": 9,
   "id": "de560277",
   "metadata": {
    "execution": {
     "iopub.execute_input": "2023-02-22T13:23:28.867929Z",
     "iopub.status.busy": "2023-02-22T13:23:28.867045Z",
     "iopub.status.idle": "2023-02-22T13:23:28.876452Z",
     "shell.execute_reply": "2023-02-22T13:23:28.875291Z"
    },
    "papermill": {
     "duration": 0.019128,
     "end_time": "2023-02-22T13:23:28.878760",
     "exception": false,
     "start_time": "2023-02-22T13:23:28.859632",
     "status": "completed"
    },
    "tags": []
   },
   "outputs": [
    {
     "data": {
      "text/plain": [
       "3     NaN\n",
       "5     NaN\n",
       "6     NaN\n",
       "9     NaN\n",
       "12    NaN\n",
       "       ..\n",
       "198   NaN\n",
       "201   NaN\n",
       "206   NaN\n",
       "208   NaN\n",
       "214   NaN\n",
       "Name: salary, Length: 67, dtype: float64"
      ]
     },
     "execution_count": 9,
     "metadata": {},
     "output_type": "execute_result"
    }
   ],
   "source": [
    "status_df['salary']"
   ]
  },
  {
   "cell_type": "markdown",
   "id": "d97028a1",
   "metadata": {
    "papermill": {
     "duration": 0.006456,
     "end_time": "2023-02-22T13:23:28.891543",
     "exception": false,
     "start_time": "2023-02-22T13:23:28.885087",
     "status": "completed"
    },
    "tags": []
   },
   "source": [
    "So, we see that for every value where status is **Not Placed**, the salary is null"
   ]
  },
  {
   "cell_type": "markdown",
   "id": "fb483224",
   "metadata": {
    "papermill": {
     "duration": 0.006065,
     "end_time": "2023-02-22T13:23:28.903711",
     "exception": false,
     "start_time": "2023-02-22T13:23:28.897646",
     "status": "completed"
    },
    "tags": []
   },
   "source": [
    "The best option in this case is to remove these rows with the status 'Not Placed'"
   ]
  },
  {
   "cell_type": "code",
   "execution_count": null,
   "id": "192b2a3b",
   "metadata": {
    "papermill": {
     "duration": 0.005883,
     "end_time": "2023-02-22T13:23:28.915944",
     "exception": false,
     "start_time": "2023-02-22T13:23:28.910061",
     "status": "completed"
    },
    "tags": []
   },
   "outputs": [],
   "source": []
  }
 ],
 "metadata": {
  "kernelspec": {
   "display_name": "Python 3",
   "language": "python",
   "name": "python3"
  },
  "language_info": {
   "codemirror_mode": {
    "name": "ipython",
    "version": 3
   },
   "file_extension": ".py",
   "mimetype": "text/x-python",
   "name": "python",
   "nbconvert_exporter": "python",
   "pygments_lexer": "ipython3",
   "version": "3.7.12"
  },
  "papermill": {
   "default_parameters": {},
   "duration": 10.861148,
   "end_time": "2023-02-22T13:23:29.745598",
   "environment_variables": {},
   "exception": null,
   "input_path": "__notebook__.ipynb",
   "output_path": "__notebook__.ipynb",
   "parameters": {},
   "start_time": "2023-02-22T13:23:18.884450",
   "version": "2.3.4"
  }
 },
 "nbformat": 4,
 "nbformat_minor": 5
}
