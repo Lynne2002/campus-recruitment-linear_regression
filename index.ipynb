{
 "cells": [
  {
   "cell_type": "code",
   "execution_count": 1,
   "id": "5624e5dd",
   "metadata": {
    "_cell_guid": "b1076dfc-b9ad-4769-8c92-a6c4dae69d19",
    "_uuid": "8f2839f25d086af736a60e9eeb907d3b93b6e0e5",
    "execution": {
     "iopub.execute_input": "2023-02-22T12:46:40.249163Z",
     "iopub.status.busy": "2023-02-22T12:46:40.248486Z",
     "iopub.status.idle": "2023-02-22T12:46:40.272205Z",
     "shell.execute_reply": "2023-02-22T12:46:40.269997Z"
    },
    "papermill": {
     "duration": 0.035019,
     "end_time": "2023-02-22T12:46:40.275551",
     "exception": false,
     "start_time": "2023-02-22T12:46:40.240532",
     "status": "completed"
    },
    "tags": []
   },
   "outputs": [
    {
     "name": "stdout",
     "output_type": "stream",
     "text": [
      "/kaggle/input/factors-affecting-campus-placement/Placement_Data_Full_Class.csv\n"
     ]
    }
   ],
   "source": [
    "# This Python 3 environment comes with many helpful analytics libraries installed\n",
    "# It is defined by the kaggle/python Docker image: https://github.com/kaggle/docker-python\n",
    "# For example, here's several helpful packages to load\n",
    "\n",
    "import numpy as np # linear algebra\n",
    "import pandas as pd # data processing, CSV file I/O (e.g. pd.read_csv)\n",
    "\n",
    "# Input data files are available in the read-only \"../input/\" directory\n",
    "# For example, running this (by clicking run or pressing Shift+Enter) will list all files under the input directory\n",
    "\n",
    "import os\n",
    "for dirname, _, filenames in os.walk('/kaggle/input'):\n",
    "    for filename in filenames:\n",
    "        print(os.path.join(dirname, filename))\n",
    "\n",
    "# You can write up to 20GB to the current directory (/kaggle/working/) that gets preserved as output when you create a version using \"Save & Run All\" \n",
    "# You can also write temporary files to /kaggle/temp/, but they won't be saved outside of the current session"
   ]
  },
  {
   "cell_type": "markdown",
   "id": "9998ffe1",
   "metadata": {
    "papermill": {
     "duration": 0.002254,
     "end_time": "2023-02-22T12:46:40.280769",
     "exception": false,
     "start_time": "2023-02-22T12:46:40.278515",
     "status": "completed"
    },
    "tags": []
   },
   "source": [
    "# Points to take into consideration\n",
    "## Questions:\n",
    "- Which factor influenced a candidate in getting placed?\n",
    "- Does percentage matters for one to get placed?\n",
    "- Which degree specialization is much demanded by corporate?\n",
    "- Play with the data conducting all statistical tests.\n",
    "\n",
    "## Regression tasks:\n",
    "- Develop a simple linear regression model by estimating the model parameters.\n",
    "- Show the regression plot\n",
    "- Comment on the R-squared value of the model\n",
    "- Test for significance of the regression co-efficient based on the summary"
   ]
  },
  {
   "cell_type": "markdown",
   "id": "0fb8824f",
   "metadata": {
    "papermill": {
     "duration": 0.002185,
     "end_time": "2023-02-22T12:46:40.285413",
     "exception": false,
     "start_time": "2023-02-22T12:46:40.283228",
     "status": "completed"
    },
    "tags": []
   },
   "source": [
    "## Imports"
   ]
  },
  {
   "cell_type": "code",
   "execution_count": 2,
   "id": "53c1d089",
   "metadata": {
    "execution": {
     "iopub.execute_input": "2023-02-22T12:46:40.291890Z",
     "iopub.status.busy": "2023-02-22T12:46:40.291563Z",
     "iopub.status.idle": "2023-02-22T12:46:41.791751Z",
     "shell.execute_reply": "2023-02-22T12:46:41.790232Z"
    },
    "papermill": {
     "duration": 1.506678,
     "end_time": "2023-02-22T12:46:41.794445",
     "exception": false,
     "start_time": "2023-02-22T12:46:40.287767",
     "status": "completed"
    },
    "tags": []
   },
   "outputs": [],
   "source": [
    "import numpy as np\n",
    "import pandas as pd\n",
    "import matplotlib.pyplot as py\n",
    "import seaborn as sns\n",
    "import math\n",
    "import sklearn.model_selection as model_selection\n",
    "import sklearn.preprocessing as preprocessing\n",
    "\n",
    "from sklearn.linear_model import LinearRegression\n",
    "from sklearn.metrics import mean_squared_error\n",
    "from sklearn.metrics import r2_score\n",
    "\n"
   ]
  },
  {
   "cell_type": "markdown",
   "id": "a3b7615b",
   "metadata": {
    "papermill": {
     "duration": 0.00228,
     "end_time": "2023-02-22T12:46:41.799562",
     "exception": false,
     "start_time": "2023-02-22T12:46:41.797282",
     "status": "completed"
    },
    "tags": []
   },
   "source": [
    "## 1. Importing the data"
   ]
  },
  {
   "cell_type": "code",
   "execution_count": 3,
   "id": "555551ce",
   "metadata": {
    "execution": {
     "iopub.execute_input": "2023-02-22T12:46:41.806038Z",
     "iopub.status.busy": "2023-02-22T12:46:41.805644Z",
     "iopub.status.idle": "2023-02-22T12:46:41.849156Z",
     "shell.execute_reply": "2023-02-22T12:46:41.847600Z"
    },
    "papermill": {
     "duration": 0.049704,
     "end_time": "2023-02-22T12:46:41.851700",
     "exception": false,
     "start_time": "2023-02-22T12:46:41.801996",
     "status": "completed"
    },
    "tags": []
   },
   "outputs": [
    {
     "data": {
      "text/html": [
       "<div>\n",
       "<style scoped>\n",
       "    .dataframe tbody tr th:only-of-type {\n",
       "        vertical-align: middle;\n",
       "    }\n",
       "\n",
       "    .dataframe tbody tr th {\n",
       "        vertical-align: top;\n",
       "    }\n",
       "\n",
       "    .dataframe thead th {\n",
       "        text-align: right;\n",
       "    }\n",
       "</style>\n",
       "<table border=\"1\" class=\"dataframe\">\n",
       "  <thead>\n",
       "    <tr style=\"text-align: right;\">\n",
       "      <th></th>\n",
       "      <th>sl_no</th>\n",
       "      <th>gender</th>\n",
       "      <th>ssc_p</th>\n",
       "      <th>ssc_b</th>\n",
       "      <th>hsc_p</th>\n",
       "      <th>hsc_b</th>\n",
       "      <th>hsc_s</th>\n",
       "      <th>degree_p</th>\n",
       "      <th>degree_t</th>\n",
       "      <th>workex</th>\n",
       "      <th>etest_p</th>\n",
       "      <th>specialisation</th>\n",
       "      <th>mba_p</th>\n",
       "      <th>status</th>\n",
       "      <th>salary</th>\n",
       "    </tr>\n",
       "  </thead>\n",
       "  <tbody>\n",
       "    <tr>\n",
       "      <th>0</th>\n",
       "      <td>1</td>\n",
       "      <td>M</td>\n",
       "      <td>67.00</td>\n",
       "      <td>Others</td>\n",
       "      <td>91.00</td>\n",
       "      <td>Others</td>\n",
       "      <td>Commerce</td>\n",
       "      <td>58.00</td>\n",
       "      <td>Sci&amp;Tech</td>\n",
       "      <td>No</td>\n",
       "      <td>55.0</td>\n",
       "      <td>Mkt&amp;HR</td>\n",
       "      <td>58.80</td>\n",
       "      <td>Placed</td>\n",
       "      <td>270000.0</td>\n",
       "    </tr>\n",
       "    <tr>\n",
       "      <th>1</th>\n",
       "      <td>2</td>\n",
       "      <td>M</td>\n",
       "      <td>79.33</td>\n",
       "      <td>Central</td>\n",
       "      <td>78.33</td>\n",
       "      <td>Others</td>\n",
       "      <td>Science</td>\n",
       "      <td>77.48</td>\n",
       "      <td>Sci&amp;Tech</td>\n",
       "      <td>Yes</td>\n",
       "      <td>86.5</td>\n",
       "      <td>Mkt&amp;Fin</td>\n",
       "      <td>66.28</td>\n",
       "      <td>Placed</td>\n",
       "      <td>200000.0</td>\n",
       "    </tr>\n",
       "    <tr>\n",
       "      <th>2</th>\n",
       "      <td>3</td>\n",
       "      <td>M</td>\n",
       "      <td>65.00</td>\n",
       "      <td>Central</td>\n",
       "      <td>68.00</td>\n",
       "      <td>Central</td>\n",
       "      <td>Arts</td>\n",
       "      <td>64.00</td>\n",
       "      <td>Comm&amp;Mgmt</td>\n",
       "      <td>No</td>\n",
       "      <td>75.0</td>\n",
       "      <td>Mkt&amp;Fin</td>\n",
       "      <td>57.80</td>\n",
       "      <td>Placed</td>\n",
       "      <td>250000.0</td>\n",
       "    </tr>\n",
       "    <tr>\n",
       "      <th>3</th>\n",
       "      <td>4</td>\n",
       "      <td>M</td>\n",
       "      <td>56.00</td>\n",
       "      <td>Central</td>\n",
       "      <td>52.00</td>\n",
       "      <td>Central</td>\n",
       "      <td>Science</td>\n",
       "      <td>52.00</td>\n",
       "      <td>Sci&amp;Tech</td>\n",
       "      <td>No</td>\n",
       "      <td>66.0</td>\n",
       "      <td>Mkt&amp;HR</td>\n",
       "      <td>59.43</td>\n",
       "      <td>Not Placed</td>\n",
       "      <td>NaN</td>\n",
       "    </tr>\n",
       "    <tr>\n",
       "      <th>4</th>\n",
       "      <td>5</td>\n",
       "      <td>M</td>\n",
       "      <td>85.80</td>\n",
       "      <td>Central</td>\n",
       "      <td>73.60</td>\n",
       "      <td>Central</td>\n",
       "      <td>Commerce</td>\n",
       "      <td>73.30</td>\n",
       "      <td>Comm&amp;Mgmt</td>\n",
       "      <td>No</td>\n",
       "      <td>96.8</td>\n",
       "      <td>Mkt&amp;Fin</td>\n",
       "      <td>55.50</td>\n",
       "      <td>Placed</td>\n",
       "      <td>425000.0</td>\n",
       "    </tr>\n",
       "  </tbody>\n",
       "</table>\n",
       "</div>"
      ],
      "text/plain": [
       "   sl_no gender  ssc_p    ssc_b  hsc_p    hsc_b     hsc_s  degree_p  \\\n",
       "0      1      M  67.00   Others  91.00   Others  Commerce     58.00   \n",
       "1      2      M  79.33  Central  78.33   Others   Science     77.48   \n",
       "2      3      M  65.00  Central  68.00  Central      Arts     64.00   \n",
       "3      4      M  56.00  Central  52.00  Central   Science     52.00   \n",
       "4      5      M  85.80  Central  73.60  Central  Commerce     73.30   \n",
       "\n",
       "    degree_t workex  etest_p specialisation  mba_p      status    salary  \n",
       "0   Sci&Tech     No     55.0         Mkt&HR  58.80      Placed  270000.0  \n",
       "1   Sci&Tech    Yes     86.5        Mkt&Fin  66.28      Placed  200000.0  \n",
       "2  Comm&Mgmt     No     75.0        Mkt&Fin  57.80      Placed  250000.0  \n",
       "3   Sci&Tech     No     66.0         Mkt&HR  59.43  Not Placed       NaN  \n",
       "4  Comm&Mgmt     No     96.8        Mkt&Fin  55.50      Placed  425000.0  "
      ]
     },
     "execution_count": 3,
     "metadata": {},
     "output_type": "execute_result"
    }
   ],
   "source": [
    "data_df = pd.read_csv(r'/kaggle/input/factors-affecting-campus-placement/Placement_Data_Full_Class.csv')\n",
    "data_df.head()"
   ]
  },
  {
   "cell_type": "code",
   "execution_count": 4,
   "id": "2fcc3867",
   "metadata": {
    "execution": {
     "iopub.execute_input": "2023-02-22T12:46:41.859016Z",
     "iopub.status.busy": "2023-02-22T12:46:41.858633Z",
     "iopub.status.idle": "2023-02-22T12:46:41.865772Z",
     "shell.execute_reply": "2023-02-22T12:46:41.864215Z"
    },
    "papermill": {
     "duration": 0.013086,
     "end_time": "2023-02-22T12:46:41.867866",
     "exception": false,
     "start_time": "2023-02-22T12:46:41.854780",
     "status": "completed"
    },
    "tags": []
   },
   "outputs": [
    {
     "name": "stdout",
     "output_type": "stream",
     "text": [
      "Shape: (215, 15)\n"
     ]
    }
   ],
   "source": [
    "print(f'Shape:', data_df.shape)"
   ]
  },
  {
   "cell_type": "markdown",
   "id": "51af9a06",
   "metadata": {
    "papermill": {
     "duration": 0.002577,
     "end_time": "2023-02-22T12:46:41.873413",
     "exception": false,
     "start_time": "2023-02-22T12:46:41.870836",
     "status": "completed"
    },
    "tags": []
   },
   "source": [
    "215 rows and 15 columns"
   ]
  },
  {
   "cell_type": "code",
   "execution_count": null,
   "id": "69933242",
   "metadata": {
    "papermill": {
     "duration": 0.002521,
     "end_time": "2023-02-22T12:46:41.878604",
     "exception": false,
     "start_time": "2023-02-22T12:46:41.876083",
     "status": "completed"
    },
    "tags": []
   },
   "outputs": [],
   "source": []
  }
 ],
 "metadata": {
  "kernelspec": {
   "display_name": "Python 3",
   "language": "python",
   "name": "python3"
  },
  "language_info": {
   "codemirror_mode": {
    "name": "ipython",
    "version": 3
   },
   "file_extension": ".py",
   "mimetype": "text/x-python",
   "name": "python",
   "nbconvert_exporter": "python",
   "pygments_lexer": "ipython3",
   "version": "3.7.12"
  },
  "papermill": {
   "default_parameters": {},
   "duration": 11.884097,
   "end_time": "2023-02-22T12:46:42.602050",
   "environment_variables": {},
   "exception": null,
   "input_path": "__notebook__.ipynb",
   "output_path": "__notebook__.ipynb",
   "parameters": {},
   "start_time": "2023-02-22T12:46:30.717953",
   "version": "2.3.4"
  }
 },
 "nbformat": 4,
 "nbformat_minor": 5
}
